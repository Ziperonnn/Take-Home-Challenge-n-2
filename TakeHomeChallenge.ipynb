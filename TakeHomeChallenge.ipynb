{
  "nbformat": 4,
  "nbformat_minor": 0,
  "metadata": {
    "colab": {
      "provenance": [],
      "authorship_tag": "ABX9TyOdKZbuwXDPhhWHIVfXwkCb",
      "include_colab_link": true
    },
    "kernelspec": {
      "name": "python3",
      "display_name": "Python 3"
    },
    "language_info": {
      "name": "python"
    }
  },
  "cells": [
    {
      "cell_type": "markdown",
      "metadata": {
        "id": "view-in-github",
        "colab_type": "text"
      },
      "source": [
        "<a href=\"https://colab.research.google.com/github/Ziperonnn/Take-Home-Challenge-n-2/blob/main/TakeHomeChallenge.ipynb\" target=\"_parent\"><img src=\"https://colab.research.google.com/assets/colab-badge.svg\" alt=\"Open In Colab\"/></a>"
      ]
    },
    {
      "cell_type": "markdown",
      "source": [
        "Take Home Challenge n°2 : \n"
      ],
      "metadata": {
        "id": "SkjPYuK88o-U"
      }
    },
    {
      "cell_type": "code",
      "execution_count": 2,
      "metadata": {
        "id": "q_rKIgEm7byM"
      },
      "outputs": [],
      "source": [
        "# @title Setup\n",
        "from google.colab import auth\n",
        "from google.cloud import bigquery\n",
        "from google.colab import data_table\n",
        "\n",
        "project = 'take-home-challenge-n2' # Project ID inserted based on the query results selected to explore\n",
        "location = 'US' # Location inserted based on the query results selected to explore\n",
        "client = bigquery.Client(project=project, location=location)\n",
        "data_table.enable_dataframe_formatter()\n",
        "auth.authenticate_user()\n"
      ]
    },
    {
      "cell_type": "code",
      "source": [
        "# @title Print the query for : **Materialise a staging table from the raw table “transactions” that only selects the last three months of data from this raw table**\n",
        "\n",
        "job = client.get_job('bquxjob_16969aa5_184dd33c568') # Job ID inserted based on the query results selected to explore\n",
        "print(job.query)"
      ],
      "metadata": {
        "id": "NM4WPm4g8m7C",
        "colab": {
          "base_uri": "https://localhost:8080/"
        },
        "outputId": "d9341b37-d5ad-481d-fe25-8ed8e8375af5"
      },
      "execution_count": 15,
      "outputs": [
        {
          "output_type": "stream",
          "name": "stdout",
          "text": [
            "SELECT * \r\n",
            "FROM  `bigquery-public-data.crypto_bitcoin_cash.transactions` \r\n",
            "# Selection des trois derniers mois\r\n",
            "WHERE DATE(block_timestamp_month) BETWEEN DATE_SUB(CURRENT_DATE(), INTERVAL 3 MONTH) AND CURRENT_DATE()\r\n",
            "# We arrange the data to see first date we have\r\n",
            "ORDER BY block_timestamp_month\r\n",
            "LIMIT 20\n"
          ]
        }
      ]
    },
    {
      "cell_type": "code",
      "source": [
        "# @title Print the query for : **Materialise a data mart table that gives the current balance for all addresses and exclude addresses that had at least one transaction on Coinbase.**\n",
        "\n",
        "job = client.get_job('bquxjob_593d7ce5_184dd200c33') # Job ID inserted based on the query results selected to explore\n",
        "print(job.query)"
      ],
      "metadata": {
        "colab": {
          "base_uri": "https://localhost:8080/"
        },
        "outputId": "52818837-fe5b-4da2-a23f-92a8a24a33ee",
        "id": "w3uZaZTgLCZJ"
      },
      "execution_count": null,
      "outputs": [
        {
          "output_type": "stream",
          "name": "stdout",
          "text": [
            "SELECT \r\n",
            "  ANY_VALUE(o.addresses) as addresses, \r\n",
            "  SUM(o.value) as Current_Balance\r\n",
            "FROM  `bigquery-public-data.crypto_bitcoin_cash.transactions`, UNNEST(outputs) as o\r\n",
            "\r\n",
            "# Selection des trois derniers mois\r\n",
            "WHERE DATE(block_timestamp_month) BETWEEN DATE_SUB(CURRENT_DATE(), INTERVAL 3 MONTH) AND CURRENT_DATE()\r\n",
            "\r\n",
            "# Selection des transactions qui ne sont pas faite sur CoinBase\r\n",
            "AND is_coinbase = false\r\n",
            "\r\n",
            "# Regroupe les différents addresses bitcoin cash ensemble\r\n",
            "GROUP BY TO_JSON_STRING(o.addresses)\r\n",
            "\n"
          ]
        }
      ]
    },
    {
      "cell_type": "code",
      "source": [
        "# @title Set the Query into a DataFrame\n",
        "\n",
        "results = job.to_dataframe()"
      ],
      "metadata": {
        "id": "ARXDcGb-KXdJ"
      },
      "execution_count": 4,
      "outputs": []
    },
    {
      "cell_type": "code",
      "source": [],
      "metadata": {
        "colab": {
          "base_uri": "https://localhost:8080/"
        },
        "id": "gqg5xKdnKl2w",
        "outputId": "9cddb74e-3acf-46e2-b5de-d50b6ecd7540"
      },
      "execution_count": 10,
      "outputs": [
        {
          "output_type": "stream",
          "name": "stdout",
          "text": [
            "SELECT \r\n",
            "  ANY_VALUE(o.addresses) as addresses, \r\n",
            "  SUM(o.value) as Current_Balance\r\n",
            "FROM  `bigquery-public-data.crypto_bitcoin_cash.transactions`, UNNEST(outputs) as o\r\n",
            "\r\n",
            "# Selection des trois derniers mois\r\n",
            "WHERE DATE(block_timestamp_month) BETWEEN DATE_SUB(CURRENT_DATE(), INTERVAL 3 MONTH) AND CURRENT_DATE()\r\n",
            "\r\n",
            "# Selection des transactions qui ne sont pas faite sur CoinBase\r\n",
            "AND is_coinbase = false\r\n",
            "\r\n",
            "# Regroupe les différents addresses bitcoin cash ensemble\r\n",
            "GROUP BY TO_JSON_STRING(o.addresses)\r\n",
            "\n"
          ]
        }
      ]
    }
  ]
}